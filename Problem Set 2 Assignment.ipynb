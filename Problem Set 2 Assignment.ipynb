{
 "cells": [
  {
   "cell_type": "code",
   "execution_count": null,
   "id": "57cee326",
   "metadata": {},
   "outputs": [],
   "source": [
    "Question 1a"
   ]
  },
  {
   "cell_type": "code",
   "execution_count": 4,
   "id": "6d61d577",
   "metadata": {},
   "outputs": [
    {
     "name": "stdout",
     "output_type": "stream",
     "text": [
      "Value displyed when the last expression (a) is evaluated- 6\n"
     ]
    }
   ],
   "source": [
    "print (\"Value displayed when the last expression (a) is evaluated- 6\")"
   ]
  },
  {
   "cell_type": "code",
   "execution_count": null,
   "id": "d8662c6b",
   "metadata": {},
   "outputs": [],
   "source": [
    "Question 1b"
   ]
  },
  {
   "cell_type": "code",
   "execution_count": 5,
   "id": "1d9d68ac",
   "metadata": {},
   "outputs": [
    {
     "name": "stdout",
     "output_type": "stream",
     "text": [
      "Variable a is initialized as 0\n"
     ]
    }
   ],
   "source": [
    "#Step 1 a=0\n",
    "print (\"Variable a is initialized as 0\")"
   ]
  },
  {
   "cell_type": "code",
   "execution_count": 6,
   "id": "ec631da9",
   "metadata": {},
   "outputs": [
    {
     "name": "stdout",
     "output_type": "stream",
     "text": [
      "When function b is called, it imports variable a which is '0' as a global variable and calls function c by passing the current value of variable a as a parameter. Function c returns an addition of 2 to the value that was passed. i.e 0 + 2 = 2.\n"
     ]
    }
   ],
   "source": [
    "#Step 2 \n",
    "print (\"When function b is called, it imports variable a which is '0' as a global variable and calls function c by passing the current value of variable a as a parameter. Function c returns an addition of 2 to the value that was passed. i.e 0 + 2 = 2.\")"
   ]
  },
  {
   "cell_type": "code",
   "execution_count": 7,
   "id": "1f6d6332",
   "metadata": {},
   "outputs": [
    {
     "name": "stdout",
     "output_type": "stream",
     "text": [
      "Function b is called the third time calling function c. But now, a is 4 resulting to the number 6. i.e. 4+2\n"
     ]
    }
   ],
   "source": [
    "#Step 3\n",
    "print (\"Function b is called the third time calling function c. But now, a is 4 resulting to the number 6. i.e. 4+2\")"
   ]
  },
  {
   "cell_type": "code",
   "execution_count": null,
   "id": "6b2ded71",
   "metadata": {},
   "outputs": [],
   "source": [
    "In Summary, calling function b three times produced number '6' as the result."
   ]
  },
  {
   "cell_type": "code",
   "execution_count": null,
   "id": "32ba0b68",
   "metadata": {},
   "outputs": [],
   "source": [
    "Question 2"
   ]
  },
  {
   "cell_type": "code",
   "execution_count": 9,
   "id": "85e2f658",
   "metadata": {},
   "outputs": [
    {
     "name": "stdout",
     "output_type": "stream",
     "text": [
      "File 'idterm.py' not found.\n"
     ]
    }
   ],
   "source": [
    "def file_length(file_name):\n",
    "    try:\n",
    "        file = open(file_name)\n",
    "        contents = file.read()\n",
    "        file.close()\n",
    "        print(len(contents))\n",
    "    except FileNotFoundError:\n",
    "        print(f\"File '{file_name}' not found.\")\n",
    "    except:\n",
    "        print(f\"Could not read file '{file_name}'.\")\n",
    "        \n",
    "file_length('idterm.py')"
   ]
  },
  {
   "cell_type": "code",
   "execution_count": null,
   "id": "035433f4",
   "metadata": {},
   "outputs": [],
   "source": [
    "Question 3"
   ]
  },
  {
   "cell_type": "code",
   "execution_count": 19,
   "id": "19c74e9f",
   "metadata": {},
   "outputs": [
    {
     "name": "stdout",
     "output_type": "stream",
     "text": [
      "k = Kangaroo(0, 0)\n",
      "I am a Kangaroo located at coordinates (0,0)\n",
      "\n",
      "k.put_in_pouch('doll')\n",
      "k.put_in_pouch('firetruck')\n",
      "k.put_in_pouch('kitten')\n",
      "['doll', 'firetruck', 'kitten']\n",
      "\n",
      "k.jump(1, 0)\n",
      "k.jump(1, 0)\n",
      "k.jump(1, 0)\n",
      "I am a Kangaroo located at coordinates (3,0)\n"
     ]
    }
   ],
   "source": [
    "class Marsupial:\n",
    "    def __init__(self):\n",
    "        self.pouch = []\n",
    "\n",
    "    def put_in_pouch(self, item):\n",
    "        self.pouch.append(item)\n",
    "\n",
    "    def pouch_contents(self):\n",
    "        return self.pouch\n",
    "\n",
    "class Kangaroo(Marsupial):\n",
    "    def __init__(self, x=0, y=0):\n",
    "        super().__init__()\n",
    "        self.x = x\n",
    "        self.y = y\n",
    "\n",
    "    def jump(self, dx, dy):\n",
    "        self.x += dx\n",
    "        self.y += dy\n",
    "\n",
    "    def __str__(self):\n",
    "        return f\"I am a Kangaroo located at coordinates ({self.x},{self.y})\"\n",
    "\n",
    "print('k = Kangaroo(0, 0)', end='\\n')\n",
    "k = Kangaroo(0, 0)\n",
    "print(k, end='\\n\\n')\n",
    "\n",
    "print(\"k.put_in_pouch('doll')\", end='\\n')\n",
    "print(\"k.put_in_pouch('firetruck')\", end='\\n')\n",
    "print(\"k.put_in_pouch('kitten')\", end='\\n')\n",
    "k.put_in_pouch('doll')\n",
    "k.put_in_pouch('firetruck')\n",
    "k.put_in_pouch('kitten')\n",
    "print(k.pouch_contents(), end='\\n\\n')\n",
    "\n",
    "print(\"k.jump(1, 0)\", end='\\n')\n",
    "print(\"k.jump(1, 0)\", end='\\n')\n",
    "print(\"k.jump(1, 0)\", end='\\n')\n",
    "k.jump(1, 0)\n",
    "k.jump(1, 0)\n",
    "k.jump(1, 0)\n",
    "print(k)"
   ]
  },
  {
   "cell_type": "code",
   "execution_count": null,
   "id": "3e8f52b0",
   "metadata": {},
   "outputs": [],
   "source": [
    "Question 4"
   ]
  },
  {
   "cell_type": "code",
   "execution_count": 11,
   "id": "1ab518b5",
   "metadata": {},
   "outputs": [
    {
     "name": "stdout",
     "output_type": "stream",
     "text": [
      "collatz(1)\n",
      "1\n",
      "collatz(10)\n",
      "10\n",
      "5\n",
      "16\n",
      "8\n",
      "4\n",
      "2\n",
      "1\n"
     ]
    }
   ],
   "source": [
    "def collatz(x):\n",
    "    print(x, end='\\n')\n",
    "    if x == 1:\n",
    "        return\n",
    "    elif x % 2 == 0:\n",
    "        collatz(x // 2)\n",
    "    else:\n",
    "        collatz(3 * x + 1)\n",
    "\n",
    "print('collatz(1)', end='\\n')\n",
    "collatz(1)\n",
    "print('collatz(10)', end='\\n')\n",
    "collatz(10)"
   ]
  },
  {
   "cell_type": "code",
   "execution_count": null,
   "id": "1798650f",
   "metadata": {},
   "outputs": [],
   "source": [
    "Question 5"
   ]
  },
  {
   "cell_type": "code",
   "execution_count": 15,
   "id": "65764cc2",
   "metadata": {},
   "outputs": [
    {
     "name": "stdout",
     "output_type": "stream",
     "text": [
      "binary(0)\n",
      "0\n",
      "binary(1)\n",
      "1\n",
      "binary(3)\n",
      "11\n",
      "binary(9)\n",
      "1001"
     ]
    }
   ],
   "source": [
    "def binary(n):\n",
    "    if n > 1:\n",
    "        binary(n // 2)\n",
    "    print(n % 2, end='')\n",
    "\n",
    "print('binary(0)', end='\\n')\n",
    "binary(0)\n",
    "\n",
    "print('\\nbinary(1)', end='\\n')\n",
    "binary(1)\n",
    "\n",
    "print('\\nbinary(3)', end='\\n')\n",
    "binary(3)\n",
    "\n",
    "print('\\nbinary(9)', end='\\n')\n",
    "binary(9)"
   ]
  },
  {
   "cell_type": "code",
   "execution_count": null,
   "id": "2555e3b0",
   "metadata": {},
   "outputs": [],
   "source": [
    "Question 6"
   ]
  },
  {
   "cell_type": "code",
   "execution_count": 20,
   "id": "364f50ab",
   "metadata": {},
   "outputs": [
    {
     "name": "stdout",
     "output_type": "stream",
     "text": [
      "W3C Mission\n",
      " Principles\n"
     ]
    }
   ],
   "source": [
    "from html.parser import HTMLParser\n",
    "\n",
    "class HeadingParser(HTMLParser):\n",
    "    def __init__(self):\n",
    "        super().__init__()\n",
    "        self.indentation = 0\n",
    "        self.in_heading = False\n",
    "\n",
    "    def handle_starttag(self, tag, attrs):\n",
    "        if tag.startswith('h') and tag[1:].isdigit():\n",
    "            self.indentation = int(tag[1:]) - 1\n",
    "            self.in_heading = True\n",
    "\n",
    "    def handle_endtag(self, tag):\n",
    "        if tag.startswith('h') and tag[1:].isdigit():\n",
    "            self.in_heading = False\n",
    "\n",
    "    def handle_data(self, data):\n",
    "        if self.in_heading:\n",
    "            print(' ' * self.indentation + data.strip())\n",
    "\n",
    "infile = open('w3c.html')\n",
    "content = infile.read()\n",
    "infile.close()\n",
    "\n",
    "hp = HeadingParser()\n",
    "hp.feed(content)"
   ]
  },
  {
   "cell_type": "code",
   "execution_count": null,
   "id": "51cf5f72",
   "metadata": {},
   "outputs": [],
   "source": [
    "Question 7"
   ]
  },
  {
   "cell_type": "code",
   "execution_count": 22,
   "id": "0571cfd5",
   "metadata": {},
   "outputs": [],
   "source": [
    "import requests\n",
    "\n",
    "def webdir(url, depth, indent):\n",
    "    if depth < 0:\n",
    "        return\n",
    "\n",
    "    response = requests.get(url)\n",
    "    if response.status_code != 200:\n",
    "        return\n",
    "    \n",
    "webdir('http://reed.cs.depaul.edu/lperkovic/csc242/test1.html', 2, 0)"
   ]
  },
  {
   "cell_type": "code",
   "execution_count": null,
   "id": "48c6cc27",
   "metadata": {},
   "outputs": [],
   "source": [
    "Question 8: SQL Queries that return;\n",
    "Assuming table name is country_weather"
   ]
  },
  {
   "cell_type": "code",
   "execution_count": null,
   "id": "0c50a1c1",
   "metadata": {},
   "outputs": [],
   "source": [
    "#All the Temparature data.\n",
    "SELECT Temparature from country_weather"
   ]
  },
  {
   "cell_type": "code",
   "execution_count": null,
   "id": "9e1e0abc",
   "metadata": {},
   "outputs": [],
   "source": [
    "#All the cities, but without repetition\n",
    "SELECT Distinct City from country_weather"
   ]
  },
  {
   "cell_type": "code",
   "execution_count": null,
   "id": "69d5c78b",
   "metadata": {},
   "outputs": [],
   "source": [
    "#All the records for India\n",
    "SELECT*from country_weather where Country=India"
   ]
  },
  {
   "cell_type": "code",
   "execution_count": null,
   "id": "5f8c6578",
   "metadata": {},
   "outputs": [],
   "source": [
    "#All the fall records\n",
    "SELECT*from country_weather where Season='Fall'"
   ]
  },
  {
   "cell_type": "code",
   "execution_count": null,
   "id": "78356c1a",
   "metadata": {},
   "outputs": [],
   "source": [
    "#The city, country, and season for which the average rainfsll is between 200 and 400 millimeters.\n",
    "SELECT City, Country, Season\n",
    "FROM country_weather\n",
    "GROUP BY City, Country, Season\n",
    "HAVING AVG (Rainfall) BETWEEN 200 AND 400"
   ]
  },
  {
   "cell_type": "code",
   "execution_count": null,
   "id": "b4f66ec7",
   "metadata": {},
   "outputs": [],
   "source": [
    "#The city and country for which the average Fall temparature is above 20 degrees, in increasing temparature order.\n",
    "SELECT City, Country\n",
    "FROM country_weather\n",
    "WHERE Season = 'Fall'\n",
    "GROUP BY City, Country\n",
    "HAVING AVG(Temparature)>20\n",
    "ORDER BY(Temparature)ASC"
   ]
  },
  {
   "cell_type": "code",
   "execution_count": null,
   "id": "5f496658",
   "metadata": {},
   "outputs": [],
   "source": [
    "#The total annual rainfall for Cairo.\n",
    "SELECT SUM(Rainfall) AS The_Total_Rainfall\n",
    "FROM country_weather\n",
    "WHERE City='Cairo'"
   ]
  },
  {
   "cell_type": "code",
   "execution_count": null,
   "id": "cad2bed4",
   "metadata": {},
   "outputs": [],
   "source": [
    "#The total rainfall for each season\n",
    "SELECT Season, SUM (Rainfall)  AS The_Total_Rainfall\n",
    "FROM country_weather\n",
    "GROUP BY Season"
   ]
  },
  {
   "cell_type": "code",
   "execution_count": null,
   "id": "40af839a",
   "metadata": {},
   "outputs": [],
   "source": [
    "Question 9"
   ]
  },
  {
   "cell_type": "code",
   "execution_count": 16,
   "id": "62e70eec",
   "metadata": {},
   "outputs": [
    {
     "name": "stdout",
     "output_type": "stream",
     "text": [
      "a. Word in the list to Uppercase\n",
      "['THE', 'QUICK', 'BROWN', 'FOX', 'JUMPS', 'OVER', 'THE', 'LAZY', 'DOG']\n",
      "\n",
      "\n",
      "b. Maintain Word in the list as lowercase\n",
      "['the', 'quick', 'brown', 'fox', 'jumps', 'over', 'the', 'lazy', 'dog']\n",
      "\n",
      "\n",
      "c. Length of words in the list\n",
      "[3, 5, 5, 3, 5, 4, 3, 4, 3]\n",
      "\n",
      "\n",
      "d. Create a list of lists from each word in the list. It will contain the uppercase, lowercase, and word length\n",
      "[['THE', 'the', 3], ['QUICK', 'quick', 5], ['BROWN', 'brown', 5], ['FOX', 'fox', 3], ['JUMPS', 'jumps', 5], ['OVER', 'over', 4], ['THE', 'the', 3], ['LAZY', 'lazy', 4], ['DOG', 'dog', 3]]\n",
      "\n",
      "\n",
      "e. The list of words in list words containing 4 or more characters\n",
      "['quick', 'brown', 'jumps', 'over', 'lazy']\n"
     ]
    }
   ],
   "source": [
    "words = ['The', 'quick', 'brown', 'fox', 'jumps', 'over', 'the', 'lazy', 'dog']\n",
    "\n",
    "print('a. Word in the list to Uppercase', end='\\n')\n",
    "uppercase_words = [word.upper() for word in words]\n",
    "print(uppercase_words)\n",
    "\n",
    "print('\\n\\nb. Maintain Word in the list as lowercase', end='\\n')\n",
    "lowercase_words = [word.lower() for word in words]\n",
    "print(lowercase_words)\n",
    "\n",
    "print('\\n\\nc. Length of words in the list', end='\\n')\n",
    "word_lengths = [len(word) for word in words]\n",
    "print(word_lengths)\n",
    "\n",
    "print('\\n\\nd. Create a list of lists from each word in the list. It will contain the uppercase, lowercase, and word length', end='\\n')\n",
    "word_info = [[word.upper(), word.lower(), len(word)] for word in words]\n",
    "print(word_info)\n",
    "\n",
    "print('\\n\\ne. The list of words in list words containing 4 or more characters', end='\\n')\n",
    "long_words = [word for word in words if len(word) >= 4]\n",
    "print(long_words)"
   ]
  },
  {
   "cell_type": "code",
   "execution_count": null,
   "id": "64d39c9b",
   "metadata": {},
   "outputs": [],
   "source": []
  }
 ],
 "metadata": {
  "kernelspec": {
   "display_name": "Python 3 (ipykernel)",
   "language": "python",
   "name": "python3"
  },
  "language_info": {
   "codemirror_mode": {
    "name": "ipython",
    "version": 3
   },
   "file_extension": ".py",
   "mimetype": "text/x-python",
   "name": "python",
   "nbconvert_exporter": "python",
   "pygments_lexer": "ipython3",
   "version": "3.11.5"
  }
 },
 "nbformat": 4,
 "nbformat_minor": 5
}
